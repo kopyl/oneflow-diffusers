{
 "cells": [
  {
   "cell_type": "code",
   "execution_count": null,
   "id": "774bf50d-55bd-448d-a89d-cb208e825e50",
   "metadata": {},
   "outputs": [],
   "source": [
    "from onediff.infer_compiler import oneflow_compile, oneflow_load_compiled\n",
    "from onediff.schedulers import EulerDiscreteScheduler\n",
    "from onediff.optimization import rewrite_self_attention\n",
    "from diffusers import StableDiffusionPipeline\n",
    "import torch\n",
    "import os"
   ]
  },
  {
   "cell_type": "code",
   "execution_count": 12,
   "id": "604091ab-3fc1-4a73-82e6-562b7f16f9ea",
   "metadata": {},
   "outputs": [],
   "source": [
    "compiled_graph_path = \"/workspace/test\"\n",
    "prompt = \"an icon of a cat\"\n",
    "model_id = \"/workspace/sd-1_5-icons-172800_steps-4e_7\"\n",
    "height = 512\n",
    "width = 512\n",
    "steps = 50\n",
    "warmup = 1\n",
    "seed = 5"
   ]
  },
  {
   "cell_type": "code",
   "execution_count": null,
   "id": "a51c9407-17ef-48c4-ac04-ef0b5a1aa6cf",
   "metadata": {},
   "outputs": [],
   "source": [
    "scheduler = EulerDiscreteScheduler.from_pretrained(model_id, subfolder=\"scheduler\")\n",
    "pipe = StableDiffusionPipeline.from_pretrained(\n",
    "    model_id,\n",
    "    scheduler=scheduler,\n",
    "    use_auth_token=True,\n",
    "    revision=\"fp16\",\n",
    "    variant=\"fp16\",\n",
    "    torch_dtype=torch.float16,\n",
    "    safety_checker=None,\n",
    ").to(\"cuda\")"
   ]
  },
  {
   "cell_type": "code",
   "execution_count": null,
   "id": "e563fdd5-2ce7-4414-84b0-50e9513b5229",
   "metadata": {},
   "outputs": [],
   "source": [
    "pipe.unet = oneflow_load_compiled(pipe.unet, compiled_graph_path, device=\"cuda\")"
   ]
  },
  {
   "cell_type": "code",
   "execution_count": null,
   "id": "293ccc80-ebdc-4f49-9424-e992c97e8fd0",
   "metadata": {},
   "outputs": [],
   "source": [
    "torch.manual_seed(seed)\n",
    "\n",
    "prompt = \"an icon of a star\"\n",
    "images = pipe(\n",
    "    prompt, height=height, width=width, num_inference_steps=steps\n",
    ").images\n",
    "\n",
    "for i, image in enumerate(images):\n",
    "    image.save(f\"{prompt}-of-{i}.png\")"
   ]
  }
 ],
 "metadata": {
  "kernelspec": {
   "display_name": "Python 3 (ipykernel)",
   "language": "python",
   "name": "python3"
  },
  "language_info": {
   "codemirror_mode": {
    "name": "ipython",
    "version": 3
   },
   "file_extension": ".py",
   "mimetype": "text/x-python",
   "name": "python",
   "nbconvert_exporter": "python",
   "pygments_lexer": "ipython3",
   "version": "3.10.12"
  }
 },
 "nbformat": 4,
 "nbformat_minor": 5
}
