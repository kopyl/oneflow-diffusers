{
 "cells": [
  {
   "cell_type": "code",
   "execution_count": null,
   "metadata": {},
   "outputs": [],
   "source": [
    "!python /text_to_image_example.py --model_id workspace/sd-1_5-icons-172800_steps-4e_7 --compiled_graph_path workspace/test --prompt \"an icon of a star\" --steps 30 --seed 5"
   ]
  }
 ],
 "metadata": {
  "language_info": {
   "name": "python"
  }
 },
 "nbformat": 4,
 "nbformat_minor": 2
}
